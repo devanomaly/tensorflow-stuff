{
  "nbformat": 4,
  "nbformat_minor": 0,
  "metadata": {
    "colab": {
      "name": "00_tf_fundamentals.ipynb",
      "provenance": [],
      "collapsed_sections": [],
      "authorship_tag": "ABX9TyM8/eBcfC7XaO+g8HQm4Mdh",
      "include_colab_link": true
    },
    "kernelspec": {
      "name": "python3",
      "display_name": "Python 3"
    },
    "language_info": {
      "name": "python"
    },
    "accelerator": "GPU"
  },
  "cells": [
    {
      "cell_type": "markdown",
      "metadata": {
        "id": "view-in-github",
        "colab_type": "text"
      },
      "source": [
        "<a href=\"https://colab.research.google.com/github/devanomaly/tensorflow-stuff/blob/main/00_tf_fundamentals.ipynb\" target=\"_parent\"><img src=\"https://colab.research.google.com/assets/colab-badge.svg\" alt=\"Open In Colab\"/></a>"
      ]
    },
    {
      "cell_type": "markdown",
      "source": [
        "# Fundamental stuff with tensors in tensorflow\n",
        "\n",
        "* Introduction to tensors\n",
        "* Getting information from tensors\n",
        "* Manipulating tensors\n",
        "* Tensors & NumPy\n",
        "* Using @tf.function (way to speed up regular Python functions)\n",
        "* Using GPUs with TF (or TPUs)\n",
        "* Exercises"
      ],
      "metadata": {
        "id": "XvMq8eSv5EnY"
      }
    },
    {
      "cell_type": "code",
      "source": [
        "import tensorflow as tf\n",
        "print(tf.__version__)"
      ],
      "metadata": {
        "colab": {
          "base_uri": "https://localhost:8080/"
        },
        "id": "qN4uiGXS5fOL",
        "outputId": "b8a96134-d798-4666-f4e1-c3feab3e9449"
      },
      "execution_count": null,
      "outputs": [
        {
          "output_type": "stream",
          "name": "stdout",
          "text": [
            "2.8.0\n"
          ]
        }
      ]
    },
    {
      "cell_type": "code",
      "source": [
        "scalar = tf.constant(7)\n",
        "scalar"
      ],
      "metadata": {
        "colab": {
          "base_uri": "https://localhost:8080/"
        },
        "id": "lbNcWFK98ZzV",
        "outputId": "9faee8d4-ac71-4c66-db57-f250cbc02a53"
      },
      "execution_count": null,
      "outputs": [
        {
          "output_type": "execute_result",
          "data": {
            "text/plain": [
              "<tf.Tensor: shape=(), dtype=int32, numpy=7>"
            ]
          },
          "metadata": {},
          "execution_count": 2
        }
      ]
    },
    {
      "cell_type": "code",
      "source": [
        "scalar.ndim"
      ],
      "metadata": {
        "colab": {
          "base_uri": "https://localhost:8080/"
        },
        "id": "0Po7Sm8g8ce-",
        "outputId": "e8ff674a-41cd-4aad-9024-f4b67cfcb80f"
      },
      "execution_count": null,
      "outputs": [
        {
          "output_type": "execute_result",
          "data": {
            "text/plain": [
              "0"
            ]
          },
          "metadata": {},
          "execution_count": 3
        }
      ]
    },
    {
      "cell_type": "code",
      "source": [
        "vector = tf.constant([10,10])\n",
        "vector"
      ],
      "metadata": {
        "colab": {
          "base_uri": "https://localhost:8080/"
        },
        "id": "8_Eopx809Bvn",
        "outputId": "438b50e4-0fb7-4bab-dd02-af9b8d5fba43"
      },
      "execution_count": null,
      "outputs": [
        {
          "output_type": "execute_result",
          "data": {
            "text/plain": [
              "<tf.Tensor: shape=(2,), dtype=int32, numpy=array([10, 10], dtype=int32)>"
            ]
          },
          "metadata": {},
          "execution_count": 4
        }
      ]
    },
    {
      "cell_type": "code",
      "source": [
        "vector.ndim"
      ],
      "metadata": {
        "colab": {
          "base_uri": "https://localhost:8080/"
        },
        "id": "duKkAF8s9GGv",
        "outputId": "72a74749-d4ad-4006-cc7a-2fffcda4ff7e"
      },
      "execution_count": null,
      "outputs": [
        {
          "output_type": "execute_result",
          "data": {
            "text/plain": [
              "1"
            ]
          },
          "metadata": {},
          "execution_count": 5
        }
      ]
    },
    {
      "cell_type": "code",
      "source": [
        "matrix = tf.constant([[1,2],[3,4]])\n",
        "matrix"
      ],
      "metadata": {
        "colab": {
          "base_uri": "https://localhost:8080/"
        },
        "id": "Gv4e0JHy-M-e",
        "outputId": "fd494620-26c8-488c-a6ac-6f93d1279d72"
      },
      "execution_count": null,
      "outputs": [
        {
          "output_type": "execute_result",
          "data": {
            "text/plain": [
              "<tf.Tensor: shape=(2, 2), dtype=int32, numpy=\n",
              "array([[1, 2],\n",
              "       [3, 4]], dtype=int32)>"
            ]
          },
          "metadata": {},
          "execution_count": 6
        }
      ]
    },
    {
      "cell_type": "code",
      "source": [
        "matrix.ndim"
      ],
      "metadata": {
        "colab": {
          "base_uri": "https://localhost:8080/"
        },
        "id": "t2nTtfcs-Quw",
        "outputId": "a49b0429-8f5f-4ba2-ebc2-0f8cf0e7e113"
      },
      "execution_count": null,
      "outputs": [
        {
          "output_type": "execute_result",
          "data": {
            "text/plain": [
              "2"
            ]
          },
          "metadata": {},
          "execution_count": 7
        }
      ]
    },
    {
      "cell_type": "code",
      "source": [
        "tetrix = tf.constant([[[1,2],[3,4]],[[1,2],[3,4]]], dtype=tf.float64)\n",
        "tetrix"
      ],
      "metadata": {
        "colab": {
          "base_uri": "https://localhost:8080/"
        },
        "id": "9js_1mi0-RVX",
        "outputId": "068b8e44-aa1f-40eb-8764-66f5fb8b3e32"
      },
      "execution_count": null,
      "outputs": [
        {
          "output_type": "execute_result",
          "data": {
            "text/plain": [
              "<tf.Tensor: shape=(2, 2, 2), dtype=float64, numpy=\n",
              "array([[[1., 2.],\n",
              "        [3., 4.]],\n",
              "\n",
              "       [[1., 2.],\n",
              "        [3., 4.]]])>"
            ]
          },
          "metadata": {},
          "execution_count": 8
        }
      ]
    },
    {
      "cell_type": "code",
      "source": [
        "tetrix.ndim"
      ],
      "metadata": {
        "colab": {
          "base_uri": "https://localhost:8080/"
        },
        "id": "FIXDUHl_--EU",
        "outputId": "a1e06569-65aa-4df6-b0e6-6d5b1c7bd2c1"
      },
      "execution_count": null,
      "outputs": [
        {
          "output_type": "execute_result",
          "data": {
            "text/plain": [
              "3"
            ]
          },
          "metadata": {},
          "execution_count": 9
        }
      ]
    },
    {
      "cell_type": "code",
      "source": [
        "tensor = tf.constant([[[1,2,3,],[4,5,6]],[[1,2,3,],[4,5,6]]])\n",
        "tensor"
      ],
      "metadata": {
        "colab": {
          "base_uri": "https://localhost:8080/"
        },
        "id": "eT5cLR_M_rZd",
        "outputId": "54b5fccf-cc01-4b92-f91e-a54269ecd9d7"
      },
      "execution_count": null,
      "outputs": [
        {
          "output_type": "execute_result",
          "data": {
            "text/plain": [
              "<tf.Tensor: shape=(2, 2, 3), dtype=int32, numpy=\n",
              "array([[[1, 2, 3],\n",
              "        [4, 5, 6]],\n",
              "\n",
              "       [[1, 2, 3],\n",
              "        [4, 5, 6]]], dtype=int32)>"
            ]
          },
          "metadata": {},
          "execution_count": 10
        }
      ]
    },
    {
      "cell_type": "code",
      "source": [
        "tensor.ndim"
      ],
      "metadata": {
        "colab": {
          "base_uri": "https://localhost:8080/"
        },
        "id": "kEf19qe7_4xY",
        "outputId": "6ae514cc-9c65-4f0b-ce27-7b5b6ab86650"
      },
      "execution_count": null,
      "outputs": [
        {
          "output_type": "execute_result",
          "data": {
            "text/plain": [
              "3"
            ]
          },
          "metadata": {},
          "execution_count": 11
        }
      ]
    },
    {
      "cell_type": "markdown",
      "source": [
        "# Now let us see another way to create tensors"
      ],
      "metadata": {
        "id": "RvLrLw03_-RJ"
      }
    },
    {
      "cell_type": "code",
      "source": [
        "varTensor = tf.Variable([10,7])\n",
        "varTensor"
      ],
      "metadata": {
        "colab": {
          "base_uri": "https://localhost:8080/"
        },
        "id": "C4wOkmdUAl0y",
        "outputId": "f39036d0-9b6a-4319-d5b2-1b3e3416d65d"
      },
      "execution_count": null,
      "outputs": [
        {
          "output_type": "execute_result",
          "data": {
            "text/plain": [
              "<tf.Variable 'Variable:0' shape=(2,) dtype=int32, numpy=array([10,  7], dtype=int32)>"
            ]
          },
          "metadata": {},
          "execution_count": 12
        }
      ]
    },
    {
      "cell_type": "code",
      "source": [
        "varTensor[1].assign(1000)"
      ],
      "metadata": {
        "colab": {
          "base_uri": "https://localhost:8080/"
        },
        "id": "JXe4emP_A15q",
        "outputId": "3b235a83-7862-4118-ca44-f710bbfd506e"
      },
      "execution_count": null,
      "outputs": [
        {
          "output_type": "execute_result",
          "data": {
            "text/plain": [
              "<tf.Variable 'UnreadVariable' shape=(2,) dtype=int32, numpy=array([  10, 1000], dtype=int32)>"
            ]
          },
          "metadata": {},
          "execution_count": 13
        }
      ]
    },
    {
      "cell_type": "markdown",
      "source": [
        "# Creating random tensors"
      ],
      "metadata": {
        "id": "kFmmOo1kA5eU"
      }
    },
    {
      "cell_type": "code",
      "source": [
        "random_1 = tf.random.Generator.from_seed(42) # set seed for reproducibility\n",
        "random_1 = random_1.normal(shape=(2,2))\n",
        "random_1"
      ],
      "metadata": {
        "colab": {
          "base_uri": "https://localhost:8080/"
        },
        "id": "d6Y-RzZ4BbrS",
        "outputId": "b459f359-25c4-4fad-a3dc-ccbe18926d5f"
      },
      "execution_count": null,
      "outputs": [
        {
          "output_type": "execute_result",
          "data": {
            "text/plain": [
              "<tf.Tensor: shape=(2, 2), dtype=float32, numpy=\n",
              "array([[-0.7565803 , -0.06854702],\n",
              "       [ 0.07595026, -1.2573844 ]], dtype=float32)>"
            ]
          },
          "metadata": {},
          "execution_count": 14
        }
      ]
    },
    {
      "cell_type": "code",
      "source": [
        "random_2 = tf.random.Generator.from_seed(42).uniform(shape=(2,2))\n",
        "random_2"
      ],
      "metadata": {
        "colab": {
          "base_uri": "https://localhost:8080/"
        },
        "id": "K4GBHHOGD823",
        "outputId": "1aab56ae-618d-48a1-e788-807f13ec2bd0"
      },
      "execution_count": null,
      "outputs": [
        {
          "output_type": "execute_result",
          "data": {
            "text/plain": [
              "<tf.Tensor: shape=(2, 2), dtype=float32, numpy=\n",
              "array([[0.7493447 , 0.73561966],\n",
              "       [0.45230794, 0.49039817]], dtype=float32)>"
            ]
          },
          "metadata": {},
          "execution_count": 15
        }
      ]
    },
    {
      "cell_type": "markdown",
      "source": [
        "### Shuffle the order of elements in a tensor"
      ],
      "metadata": {
        "id": "QfY9BxbyEPWT"
      }
    },
    {
      "cell_type": "code",
      "source": [
        "# Shuffle a tensor \n",
        "unshuffled = tf.constant([[1,2], [3,4],[5,6]])\n",
        "unshuffled"
      ],
      "metadata": {
        "colab": {
          "base_uri": "https://localhost:8080/"
        },
        "id": "mkWYMCi4EvnI",
        "outputId": "d0874984-a208-4e4d-84de-32a41d90da84"
      },
      "execution_count": null,
      "outputs": [
        {
          "output_type": "execute_result",
          "data": {
            "text/plain": [
              "<tf.Tensor: shape=(3, 2), dtype=int32, numpy=\n",
              "array([[1, 2],\n",
              "       [3, 4],\n",
              "       [5, 6]], dtype=int32)>"
            ]
          },
          "metadata": {},
          "execution_count": 16
        }
      ]
    },
    {
      "cell_type": "code",
      "source": [
        "shuffled = tf.random.shuffle(unshuffled)\n",
        "transposedShuffle = tf.transpose(tf.random.shuffle(tf.transpose(unshuffled)))\n",
        "print(shuffled)\n",
        "transposedShuffle"
      ],
      "metadata": {
        "colab": {
          "base_uri": "https://localhost:8080/"
        },
        "id": "oFgUJV0vFE72",
        "outputId": "0cb1d2b4-3568-47d4-eaf2-32e01f299f23"
      },
      "execution_count": null,
      "outputs": [
        {
          "output_type": "stream",
          "name": "stdout",
          "text": [
            "tf.Tensor(\n",
            "[[5 6]\n",
            " [1 2]\n",
            " [3 4]], shape=(3, 2), dtype=int32)\n"
          ]
        },
        {
          "output_type": "execute_result",
          "data": {
            "text/plain": [
              "<tf.Tensor: shape=(3, 2), dtype=int32, numpy=\n",
              "array([[1, 2],\n",
              "       [3, 4],\n",
              "       [5, 6]], dtype=int32)>"
            ]
          },
          "metadata": {},
          "execution_count": 17
        }
      ]
    },
    {
      "cell_type": "markdown",
      "source": [
        "### Other ways to make tensors"
      ],
      "metadata": {
        "id": "F6d8Zsb7FVgk"
      }
    },
    {
      "cell_type": "code",
      "source": [
        "tf.ones([3,5]) #shape=(3,5)"
      ],
      "metadata": {
        "colab": {
          "base_uri": "https://localhost:8080/"
        },
        "id": "l56zMp6aHPlK",
        "outputId": "3e2950e1-eeb4-4f8d-d22c-6d236d436996"
      },
      "execution_count": null,
      "outputs": [
        {
          "output_type": "execute_result",
          "data": {
            "text/plain": [
              "<tf.Tensor: shape=(3, 5), dtype=float32, numpy=\n",
              "array([[1., 1., 1., 1., 1.],\n",
              "       [1., 1., 1., 1., 1.],\n",
              "       [1., 1., 1., 1., 1.]], dtype=float32)>"
            ]
          },
          "metadata": {},
          "execution_count": 18
        }
      ]
    },
    {
      "cell_type": "code",
      "source": [
        "tf.zeros([10,2])"
      ],
      "metadata": {
        "colab": {
          "base_uri": "https://localhost:8080/"
        },
        "id": "oIFRsUzBHZt8",
        "outputId": "dc5e12e4-261f-44ff-f164-90366acafb42"
      },
      "execution_count": null,
      "outputs": [
        {
          "output_type": "execute_result",
          "data": {
            "text/plain": [
              "<tf.Tensor: shape=(10, 2), dtype=float32, numpy=\n",
              "array([[0., 0.],\n",
              "       [0., 0.],\n",
              "       [0., 0.],\n",
              "       [0., 0.],\n",
              "       [0., 0.],\n",
              "       [0., 0.],\n",
              "       [0., 0.],\n",
              "       [0., 0.],\n",
              "       [0., 0.],\n",
              "       [0., 0.]], dtype=float32)>"
            ]
          },
          "metadata": {},
          "execution_count": 19
        }
      ]
    },
    {
      "cell_type": "markdown",
      "source": [
        "### One might turn numpy arrays into tf tensors\n",
        "\n",
        "Main difference? Tensors (tf tensors, but I'll omit \"tf\" whenever it's subintended) can be run on a GPU -- much faster for numerical computing."
      ],
      "metadata": {
        "id": "AxVzQO2oHn01"
      }
    },
    {
      "cell_type": "code",
      "source": [
        "import numpy as np\n",
        "numpy_A = np.arange(0,42, dtype=np.float64)"
      ],
      "metadata": {
        "id": "BiH8yV_7H9PX"
      },
      "execution_count": null,
      "outputs": []
    },
    {
      "cell_type": "code",
      "source": [
        "A1 = tf.constant([numpy_A, numpy_A], dtype=tf.float64)\n",
        "A2 = tf.constant([numpy_A, numpy_A], shape=(7,3,4),dtype=tf.float64)\n",
        "\n",
        "print(A1)\n",
        "print(A2)"
      ],
      "metadata": {
        "colab": {
          "base_uri": "https://localhost:8080/"
        },
        "id": "50rqj9RDIGSD",
        "outputId": "427d9e97-c507-414b-c4d5-061218d0fdc1"
      },
      "execution_count": null,
      "outputs": [
        {
          "output_type": "stream",
          "name": "stdout",
          "text": [
            "tf.Tensor(\n",
            "[[ 0.  1.  2.  3.  4.  5.  6.  7.  8.  9. 10. 11. 12. 13. 14. 15. 16. 17.\n",
            "  18. 19. 20. 21. 22. 23. 24. 25. 26. 27. 28. 29. 30. 31. 32. 33. 34. 35.\n",
            "  36. 37. 38. 39. 40. 41.]\n",
            " [ 0.  1.  2.  3.  4.  5.  6.  7.  8.  9. 10. 11. 12. 13. 14. 15. 16. 17.\n",
            "  18. 19. 20. 21. 22. 23. 24. 25. 26. 27. 28. 29. 30. 31. 32. 33. 34. 35.\n",
            "  36. 37. 38. 39. 40. 41.]], shape=(2, 42), dtype=float64)\n",
            "tf.Tensor(\n",
            "[[[ 0.  1.  2.  3.]\n",
            "  [ 4.  5.  6.  7.]\n",
            "  [ 8.  9. 10. 11.]]\n",
            "\n",
            " [[12. 13. 14. 15.]\n",
            "  [16. 17. 18. 19.]\n",
            "  [20. 21. 22. 23.]]\n",
            "\n",
            " [[24. 25. 26. 27.]\n",
            "  [28. 29. 30. 31.]\n",
            "  [32. 33. 34. 35.]]\n",
            "\n",
            " [[36. 37. 38. 39.]\n",
            "  [40. 41.  0.  1.]\n",
            "  [ 2.  3.  4.  5.]]\n",
            "\n",
            " [[ 6.  7.  8.  9.]\n",
            "  [10. 11. 12. 13.]\n",
            "  [14. 15. 16. 17.]]\n",
            "\n",
            " [[18. 19. 20. 21.]\n",
            "  [22. 23. 24. 25.]\n",
            "  [26. 27. 28. 29.]]\n",
            "\n",
            " [[30. 31. 32. 33.]\n",
            "  [34. 35. 36. 37.]\n",
            "  [38. 39. 40. 41.]]], shape=(7, 3, 4), dtype=float64)\n"
          ]
        }
      ]
    },
    {
      "cell_type": "code",
      "source": [
        "A1.ndim"
      ],
      "metadata": {
        "colab": {
          "base_uri": "https://localhost:8080/"
        },
        "id": "sM6_ETGGIRad",
        "outputId": "9cf2496e-50ce-4fe4-835f-4d815578f491"
      },
      "execution_count": null,
      "outputs": [
        {
          "output_type": "execute_result",
          "data": {
            "text/plain": [
              "2"
            ]
          },
          "metadata": {},
          "execution_count": 22
        }
      ]
    },
    {
      "cell_type": "code",
      "source": [
        "A2.ndim"
      ],
      "metadata": {
        "colab": {
          "base_uri": "https://localhost:8080/"
        },
        "id": "fw5fjA31ISvi",
        "outputId": "9cd944d0-b7d0-4060-aad0-2dc0ebdd200e"
      },
      "execution_count": null,
      "outputs": [
        {
          "output_type": "execute_result",
          "data": {
            "text/plain": [
              "3"
            ]
          },
          "metadata": {},
          "execution_count": 23
        }
      ]
    },
    {
      "cell_type": "markdown",
      "source": [
        "### Getting more information from tensors\n",
        "Important attributes\n",
        "* Shape\n",
        "* Rank\n",
        "* Axis/dimension\n",
        "* Size"
      ],
      "metadata": {
        "id": "IU5RiSzoJVoG"
      }
    },
    {
      "cell_type": "code",
      "source": [
        "rank4 = tf.zeros(shape=[2,3,4,5])"
      ],
      "metadata": {
        "id": "cSHImzbNJaQb"
      },
      "execution_count": null,
      "outputs": []
    },
    {
      "cell_type": "code",
      "source": [
        "rank4"
      ],
      "metadata": {
        "colab": {
          "base_uri": "https://localhost:8080/"
        },
        "id": "EnXblDDwKLh_",
        "outputId": "dedc15b2-c9f1-4f29-f636-2ad64cb11df0"
      },
      "execution_count": null,
      "outputs": [
        {
          "output_type": "execute_result",
          "data": {
            "text/plain": [
              "<tf.Tensor: shape=(2, 3, 4, 5), dtype=float32, numpy=\n",
              "array([[[[0., 0., 0., 0., 0.],\n",
              "         [0., 0., 0., 0., 0.],\n",
              "         [0., 0., 0., 0., 0.],\n",
              "         [0., 0., 0., 0., 0.]],\n",
              "\n",
              "        [[0., 0., 0., 0., 0.],\n",
              "         [0., 0., 0., 0., 0.],\n",
              "         [0., 0., 0., 0., 0.],\n",
              "         [0., 0., 0., 0., 0.]],\n",
              "\n",
              "        [[0., 0., 0., 0., 0.],\n",
              "         [0., 0., 0., 0., 0.],\n",
              "         [0., 0., 0., 0., 0.],\n",
              "         [0., 0., 0., 0., 0.]]],\n",
              "\n",
              "\n",
              "       [[[0., 0., 0., 0., 0.],\n",
              "         [0., 0., 0., 0., 0.],\n",
              "         [0., 0., 0., 0., 0.],\n",
              "         [0., 0., 0., 0., 0.]],\n",
              "\n",
              "        [[0., 0., 0., 0., 0.],\n",
              "         [0., 0., 0., 0., 0.],\n",
              "         [0., 0., 0., 0., 0.],\n",
              "         [0., 0., 0., 0., 0.]],\n",
              "\n",
              "        [[0., 0., 0., 0., 0.],\n",
              "         [0., 0., 0., 0., 0.],\n",
              "         [0., 0., 0., 0., 0.],\n",
              "         [0., 0., 0., 0., 0.]]]], dtype=float32)>"
            ]
          },
          "metadata": {},
          "execution_count": 25
        }
      ]
    },
    {
      "cell_type": "code",
      "source": [
        "rank4.shape, tf.size(rank4), rank4.ndim"
      ],
      "metadata": {
        "colab": {
          "base_uri": "https://localhost:8080/"
        },
        "id": "n78QKkzoKMZ4",
        "outputId": "c85050b4-dc87-4afc-dd5b-817ebe638e0f"
      },
      "execution_count": null,
      "outputs": [
        {
          "output_type": "execute_result",
          "data": {
            "text/plain": [
              "(TensorShape([2, 3, 4, 5]), <tf.Tensor: shape=(), dtype=int32, numpy=120>, 4)"
            ]
          },
          "metadata": {},
          "execution_count": 26
        }
      ]
    },
    {
      "cell_type": "code",
      "source": [
        "print(\"Datatype\", rank4.dtype)\n",
        "print(\"Rank\", rank4.ndim)\n",
        "print(\"Shape\", rank4.shape)\n",
        "print(\"# of elements\", tf.size(rank4))\n",
        "print(\"# of elements\", tf.size(rank4).numpy())\n"
      ],
      "metadata": {
        "colab": {
          "base_uri": "https://localhost:8080/"
        },
        "id": "WDGoZs5VKo1b",
        "outputId": "8eb7d2ca-3ecf-4788-9ca0-b1182ff035b8"
      },
      "execution_count": null,
      "outputs": [
        {
          "output_type": "stream",
          "name": "stdout",
          "text": [
            "Datatype <dtype: 'float32'>\n",
            "Rank 4\n",
            "Shape (2, 3, 4, 5)\n",
            "# of elements tf.Tensor(120, shape=(), dtype=int32)\n",
            "# of elements 120\n"
          ]
        }
      ]
    },
    {
      "cell_type": "markdown",
      "source": [
        "### Indexing tensors\n",
        "Just like Python lists"
      ],
      "metadata": {
        "id": "0jULlni_K-5I"
      }
    },
    {
      "cell_type": "code",
      "source": [
        "# Get the first 2 elements of each dimension\n",
        "print(rank4[:2, :2, :2, :2])"
      ],
      "metadata": {
        "colab": {
          "base_uri": "https://localhost:8080/"
        },
        "id": "UhBY51CvLiA5",
        "outputId": "463e8ad3-4d6d-4175-b170-62595bc5686f"
      },
      "execution_count": null,
      "outputs": [
        {
          "output_type": "stream",
          "name": "stdout",
          "text": [
            "tf.Tensor(\n",
            "[[[[0. 0.]\n",
            "   [0. 0.]]\n",
            "\n",
            "  [[0. 0.]\n",
            "   [0. 0.]]]\n",
            "\n",
            "\n",
            " [[[0. 0.]\n",
            "   [0. 0.]]\n",
            "\n",
            "  [[0. 0.]\n",
            "   [0. 0.]]]], shape=(2, 2, 2, 2), dtype=float32)\n"
          ]
        }
      ]
    },
    {
      "cell_type": "code",
      "source": [
        "# Get the first element from each dimension from each index except for the final one\n",
        "rank4[0,0,0] # (or rank4[:1, :1, :1], but shape is different!)"
      ],
      "metadata": {
        "colab": {
          "base_uri": "https://localhost:8080/"
        },
        "id": "ALuFYTXFLmLn",
        "outputId": "d635afea-1253-4bee-edaa-e8bd8360cd07"
      },
      "execution_count": null,
      "outputs": [
        {
          "output_type": "execute_result",
          "data": {
            "text/plain": [
              "<tf.Tensor: shape=(5,), dtype=float32, numpy=array([0., 0., 0., 0., 0.], dtype=float32)>"
            ]
          },
          "metadata": {},
          "execution_count": 29
        }
      ]
    },
    {
      "cell_type": "code",
      "source": [
        "rank2 = tf.constant([[1,2], [3,4]])"
      ],
      "metadata": {
        "id": "fkdEeUy_Maqk"
      },
      "execution_count": null,
      "outputs": []
    },
    {
      "cell_type": "code",
      "source": [
        "rank2"
      ],
      "metadata": {
        "colab": {
          "base_uri": "https://localhost:8080/"
        },
        "id": "uZ7RN0QjMxvo",
        "outputId": "471003a0-aeb2-456f-b6a6-637470f00213"
      },
      "execution_count": null,
      "outputs": [
        {
          "output_type": "execute_result",
          "data": {
            "text/plain": [
              "<tf.Tensor: shape=(2, 2), dtype=int32, numpy=\n",
              "array([[1, 2],\n",
              "       [3, 4]], dtype=int32)>"
            ]
          },
          "metadata": {},
          "execution_count": 31
        }
      ]
    },
    {
      "cell_type": "code",
      "source": [
        "rank2[:,-1]"
      ],
      "metadata": {
        "colab": {
          "base_uri": "https://localhost:8080/"
        },
        "id": "PjzerhieMyfA",
        "outputId": "c7a34d18-32b5-4811-b0d1-cc93fe4b6c49"
      },
      "execution_count": null,
      "outputs": [
        {
          "output_type": "execute_result",
          "data": {
            "text/plain": [
              "<tf.Tensor: shape=(2,), dtype=int32, numpy=array([2, 4], dtype=int32)>"
            ]
          },
          "metadata": {},
          "execution_count": 32
        }
      ]
    },
    {
      "cell_type": "code",
      "source": [
        "# Add in extra dimension to our rank 2 tensor\n",
        "rank3 = rank2[tf.newaxis, ...] # expand first axis\n",
        "print(\"extra dim at beginning\\n\", rank3)\n",
        "rank3 = rank2[..., tf.newaxis] # expand last axis\n",
        "print(\"\\nextra dim at end\\n\", rank3)\n",
        "\n"
      ],
      "metadata": {
        "colab": {
          "base_uri": "https://localhost:8080/"
        },
        "id": "3w-yKuhOM3qK",
        "outputId": "e51a94a1-40f7-428e-ffec-724a798a544a"
      },
      "execution_count": null,
      "outputs": [
        {
          "output_type": "stream",
          "name": "stdout",
          "text": [
            "extra dim at beginning\n",
            " tf.Tensor(\n",
            "[[[1 2]\n",
            "  [3 4]]], shape=(1, 2, 2), dtype=int32)\n",
            "\n",
            "extra dim at end\n",
            " tf.Tensor(\n",
            "[[[1]\n",
            "  [2]]\n",
            "\n",
            " [[3]\n",
            "  [4]]], shape=(2, 2, 1), dtype=int32)\n"
          ]
        }
      ]
    },
    {
      "cell_type": "code",
      "source": [
        "# Alternative to tf.newaxis\n",
        "tf.expand_dims(rank2, axis=-1) # -1 => expand the final axis"
      ],
      "metadata": {
        "colab": {
          "base_uri": "https://localhost:8080/"
        },
        "id": "x8HwokntNYfR",
        "outputId": "3fd9db83-8b22-4599-db0e-11fb1bcffe26"
      },
      "execution_count": null,
      "outputs": [
        {
          "output_type": "execute_result",
          "data": {
            "text/plain": [
              "<tf.Tensor: shape=(2, 2, 1), dtype=int32, numpy=\n",
              "array([[[1],\n",
              "        [2]],\n",
              "\n",
              "       [[3],\n",
              "        [4]]], dtype=int32)>"
            ]
          },
          "metadata": {},
          "execution_count": 34
        }
      ]
    },
    {
      "cell_type": "markdown",
      "source": [
        "### Tensor operations\n",
        "**Basic operations**\n",
        "\n",
        "`+`, `-`, `*`, `/`"
      ],
      "metadata": {
        "id": "wmEOle2mNjXp"
      }
    },
    {
      "cell_type": "code",
      "source": [
        "tensor1 = tf.constant([[1,2], [3,4]])\n",
        "print(tensor1)"
      ],
      "metadata": {
        "colab": {
          "base_uri": "https://localhost:8080/"
        },
        "id": "QGprc3qr9yjH",
        "outputId": "ceb34441-9043-4f56-b7ad-54d8e34cf10c"
      },
      "execution_count": null,
      "outputs": [
        {
          "output_type": "stream",
          "name": "stdout",
          "text": [
            "tf.Tensor(\n",
            "[[1 2]\n",
            " [3 4]], shape=(2, 2), dtype=int32)\n"
          ]
        }
      ]
    },
    {
      "cell_type": "code",
      "source": [
        "print(tensor1 + 10)"
      ],
      "metadata": {
        "colab": {
          "base_uri": "https://localhost:8080/"
        },
        "id": "kuMcDZoB9-bY",
        "outputId": "14878c2a-42ac-4f4c-a2e9-8e2f4126749d"
      },
      "execution_count": null,
      "outputs": [
        {
          "output_type": "stream",
          "name": "stdout",
          "text": [
            "tf.Tensor(\n",
            "[[11 12]\n",
            " [13 14]], shape=(2, 2), dtype=int32)\n"
          ]
        }
      ]
    },
    {
      "cell_type": "code",
      "source": [
        "print(tensor1*10)"
      ],
      "metadata": {
        "colab": {
          "base_uri": "https://localhost:8080/"
        },
        "id": "lnDc_vo19_Xe",
        "outputId": "ff28d545-6b48-4b86-f585-784ccf97a877"
      },
      "execution_count": null,
      "outputs": [
        {
          "output_type": "stream",
          "name": "stdout",
          "text": [
            "tf.Tensor(\n",
            "[[10 20]\n",
            " [30 40]], shape=(2, 2), dtype=int32)\n"
          ]
        }
      ]
    },
    {
      "cell_type": "code",
      "source": [
        "# we can use tensorflow functions (these optimize computing with G/TPU)\n",
        "tf.multiply(tensor1,10) #leaves tensor1 unaltered"
      ],
      "metadata": {
        "colab": {
          "base_uri": "https://localhost:8080/"
        },
        "id": "IDCbUXs6-VPF",
        "outputId": "1452cdd9-1fc2-4191-b0a2-bb5dac05e64b"
      },
      "execution_count": null,
      "outputs": [
        {
          "output_type": "execute_result",
          "data": {
            "text/plain": [
              "<tf.Tensor: shape=(2, 2), dtype=int32, numpy=\n",
              "array([[10, 20],\n",
              "       [30, 40]], dtype=int32)>"
            ]
          },
          "metadata": {},
          "execution_count": 38
        }
      ]
    },
    {
      "cell_type": "markdown",
      "source": [
        "### **Matrix multiplication**"
      ],
      "metadata": {
        "id": "SUZQ6s82-buL"
      }
    },
    {
      "cell_type": "code",
      "source": [
        "tf.matmul(tensor1,tensor1) # usual matrix mult (traced/contracted dimensions must match size)"
      ],
      "metadata": {
        "colab": {
          "base_uri": "https://localhost:8080/"
        },
        "id": "tK-xuQK--y1p",
        "outputId": "14ea487a-2884-4cb8-88eb-011a64814903"
      },
      "execution_count": null,
      "outputs": [
        {
          "output_type": "execute_result",
          "data": {
            "text/plain": [
              "<tf.Tensor: shape=(2, 2), dtype=int32, numpy=\n",
              "array([[ 7, 10],\n",
              "       [15, 22]], dtype=int32)>"
            ]
          },
          "metadata": {},
          "execution_count": 39
        }
      ]
    },
    {
      "cell_type": "code",
      "source": [
        "print(tensor1 * tensor1) # element-wise mult\n",
        "#To do usual matrix mult with Python, use \"@\" operator\n",
        "print(tensor1@tensor1)"
      ],
      "metadata": {
        "colab": {
          "base_uri": "https://localhost:8080/"
        },
        "id": "B8HEQWlL_bdY",
        "outputId": "556f8456-cbfa-4e80-e957-584e5f8c9e23"
      },
      "execution_count": null,
      "outputs": [
        {
          "output_type": "stream",
          "name": "stdout",
          "text": [
            "tf.Tensor(\n",
            "[[ 1  4]\n",
            " [ 9 16]], shape=(2, 2), dtype=int32)\n",
            "tf.Tensor(\n",
            "[[ 7 10]\n",
            " [15 22]], shape=(2, 2), dtype=int32)\n"
          ]
        }
      ]
    },
    {
      "cell_type": "markdown",
      "source": [
        "### Tensor Aggregation"
      ],
      "metadata": {
        "id": "B88AZ8KP_syv"
      }
    },
    {
      "cell_type": "code",
      "source": [
        "# Get the absolute values\n",
        "D = tf.constant([-1,-2])\n",
        "D"
      ],
      "metadata": {
        "id": "sAI7ITHPWfeC",
        "colab": {
          "base_uri": "https://localhost:8080/"
        },
        "outputId": "5ff92c80-9b7e-4a7f-f4a0-86eaae1aef5f"
      },
      "execution_count": null,
      "outputs": [
        {
          "output_type": "execute_result",
          "data": {
            "text/plain": [
              "<tf.Tensor: shape=(2,), dtype=int32, numpy=array([-1, -2], dtype=int32)>"
            ]
          },
          "metadata": {},
          "execution_count": 45
        }
      ]
    },
    {
      "cell_type": "code",
      "source": [
        "tf.abs(D)"
      ],
      "metadata": {
        "colab": {
          "base_uri": "https://localhost:8080/"
        },
        "id": "WU_sqGuNLMTe",
        "outputId": "04d72644-c339-4af4-f282-a16fadfcd0e0"
      },
      "execution_count": null,
      "outputs": [
        {
          "output_type": "execute_result",
          "data": {
            "text/plain": [
              "<tf.Tensor: shape=(2,), dtype=int32, numpy=array([1, 2], dtype=int32)>"
            ]
          },
          "metadata": {},
          "execution_count": 46
        }
      ]
    },
    {
      "cell_type": "code",
      "source": [
        "D = tf.constant(np.random.randint(0,100, size=30))\n",
        "D"
      ],
      "metadata": {
        "colab": {
          "base_uri": "https://localhost:8080/"
        },
        "id": "Lvz6I_coLO64",
        "outputId": "28023590-c990-42c1-acbd-63bdda073427"
      },
      "execution_count": null,
      "outputs": [
        {
          "output_type": "execute_result",
          "data": {
            "text/plain": [
              "<tf.Tensor: shape=(30,), dtype=int64, numpy=\n",
              "array([ 6, 22, 28,  4, 70, 37, 73, 42, 52, 92, 13, 80, 95,  5, 76, 34, 91,\n",
              "       66, 54, 73, 30, 16, 65, 98, 34, 62, 10,  1, 52, 78])>"
            ]
          },
          "metadata": {},
          "execution_count": 72
        }
      ]
    },
    {
      "cell_type": "code",
      "source": [
        "tf.size(D), D.shape, D.ndim"
      ],
      "metadata": {
        "colab": {
          "base_uri": "https://localhost:8080/"
        },
        "id": "uZODHWvNLsMy",
        "outputId": "61dba444-ca6c-45eb-ca73-9653c2a6bf6d"
      },
      "execution_count": null,
      "outputs": [
        {
          "output_type": "execute_result",
          "data": {
            "text/plain": [
              "(<tf.Tensor: shape=(), dtype=int32, numpy=30>, TensorShape([30]), 1)"
            ]
          },
          "metadata": {},
          "execution_count": 73
        }
      ]
    },
    {
      "cell_type": "code",
      "source": [
        "#Find the minimum\n",
        "tf.reduce_min(D)"
      ],
      "metadata": {
        "colab": {
          "base_uri": "https://localhost:8080/"
        },
        "id": "BKimQ_lRLyIC",
        "outputId": "2aae238e-1176-405d-a7ba-dfea2a42509f"
      },
      "execution_count": null,
      "outputs": [
        {
          "output_type": "execute_result",
          "data": {
            "text/plain": [
              "<tf.Tensor: shape=(), dtype=int64, numpy=1>"
            ]
          },
          "metadata": {},
          "execution_count": 74
        }
      ]
    },
    {
      "cell_type": "code",
      "source": [
        "#Find the maximum\n",
        "tf.reduce_max(D)"
      ],
      "metadata": {
        "colab": {
          "base_uri": "https://localhost:8080/"
        },
        "id": "li1NK9SjL_qK",
        "outputId": "3001cd79-ff6a-49b5-d2c8-1302ae3a9717"
      },
      "execution_count": null,
      "outputs": [
        {
          "output_type": "execute_result",
          "data": {
            "text/plain": [
              "<tf.Tensor: shape=(), dtype=int64, numpy=98>"
            ]
          },
          "metadata": {},
          "execution_count": 75
        }
      ]
    },
    {
      "cell_type": "code",
      "source": [
        "# Find the mean\n",
        "tf.reduce_mean(D)"
      ],
      "metadata": {
        "colab": {
          "base_uri": "https://localhost:8080/"
        },
        "id": "I1lLmLhmMCGN",
        "outputId": "99dd7406-03ac-46df-f43d-0afa6b27524a"
      },
      "execution_count": null,
      "outputs": [
        {
          "output_type": "execute_result",
          "data": {
            "text/plain": [
              "<tf.Tensor: shape=(), dtype=int64, numpy=48>"
            ]
          },
          "metadata": {},
          "execution_count": 76
        }
      ]
    },
    {
      "cell_type": "code",
      "source": [
        "#Find the sum\n",
        "tf.reduce_sum(D)"
      ],
      "metadata": {
        "colab": {
          "base_uri": "https://localhost:8080/"
        },
        "id": "bkvj77wDMIGn",
        "outputId": "9e6b7b3f-90e9-4087-9df8-97dc1013cb56"
      },
      "execution_count": null,
      "outputs": [
        {
          "output_type": "execute_result",
          "data": {
            "text/plain": [
              "<tf.Tensor: shape=(), dtype=int64, numpy=1459>"
            ]
          },
          "metadata": {},
          "execution_count": 77
        }
      ]
    },
    {
      "cell_type": "code",
      "source": [
        "# Find the variance (defaults over all dimensions... one might select axis as well)\n",
        "var=tf.math.reduce_variance(tf.cast(D, tf.float32))\n",
        "var"
      ],
      "metadata": {
        "colab": {
          "base_uri": "https://localhost:8080/"
        },
        "id": "TRHKGEpLMKe5",
        "outputId": "b554424b-3584-4ddd-9de1-3792831a8048"
      },
      "execution_count": null,
      "outputs": [
        {
          "output_type": "execute_result",
          "data": {
            "text/plain": [
              "<tf.Tensor: shape=(), dtype=float32, numpy=906.699>"
            ]
          },
          "metadata": {},
          "execution_count": 78
        }
      ]
    },
    {
      "cell_type": "code",
      "source": [
        "# Standard deviation (STD) from squareroot of var\n",
        "std=var**.5\n",
        "std"
      ],
      "metadata": {
        "colab": {
          "base_uri": "https://localhost:8080/"
        },
        "id": "ZpQMTgd3Ml38",
        "outputId": "f5569bad-e94a-4d2c-dc82-855be769b8e6"
      },
      "execution_count": null,
      "outputs": [
        {
          "output_type": "execute_result",
          "data": {
            "text/plain": [
              "<tf.Tensor: shape=(), dtype=float32, numpy=30.111443>"
            ]
          },
          "metadata": {},
          "execution_count": 79
        }
      ]
    },
    {
      "cell_type": "code",
      "source": [
        "# STD from tf reduce\n",
        "tfSTD = tf.math.reduce_std(tf.cast(D, tf.float32))\n",
        "tfSTD"
      ],
      "metadata": {
        "colab": {
          "base_uri": "https://localhost:8080/"
        },
        "id": "mLZ2SEYANyoC",
        "outputId": "4e34ade9-3b61-4d6b-a518-30fe5d2f3728"
      },
      "execution_count": null,
      "outputs": [
        {
          "output_type": "execute_result",
          "data": {
            "text/plain": [
              "<tf.Tensor: shape=(), dtype=float32, numpy=30.111443>"
            ]
          },
          "metadata": {},
          "execution_count": 80
        }
      ]
    },
    {
      "cell_type": "markdown",
      "source": [
        "### Find positional maximum and find positional minimum"
      ],
      "metadata": {
        "id": "x67_VZeuORZf"
      }
    },
    {
      "cell_type": "code",
      "source": [
        "tf.argmax(D)"
      ],
      "metadata": {
        "colab": {
          "base_uri": "https://localhost:8080/"
        },
        "id": "Sv_r3DpVO1Rl",
        "outputId": "62e0b974-aa79-445c-a142-b63c315a40a0"
      },
      "execution_count": null,
      "outputs": [
        {
          "output_type": "execute_result",
          "data": {
            "text/plain": [
              "<tf.Tensor: shape=(), dtype=int64, numpy=23>"
            ]
          },
          "metadata": {},
          "execution_count": 81
        }
      ]
    },
    {
      "cell_type": "code",
      "source": [
        "tf.argmin(D)"
      ],
      "metadata": {
        "colab": {
          "base_uri": "https://localhost:8080/"
        },
        "id": "JNRoKaSmO4oz",
        "outputId": "19428145-f8b0-4b92-eaa7-936086fe590c"
      },
      "execution_count": null,
      "outputs": [
        {
          "output_type": "execute_result",
          "data": {
            "text/plain": [
              "<tf.Tensor: shape=(), dtype=int64, numpy=27>"
            ]
          },
          "metadata": {},
          "execution_count": 82
        }
      ]
    },
    {
      "cell_type": "code",
      "source": [
        "D[23]"
      ],
      "metadata": {
        "colab": {
          "base_uri": "https://localhost:8080/"
        },
        "id": "3jfATCZYO6PS",
        "outputId": "153f9633-338c-40d3-9635-8ff96aa187b3"
      },
      "execution_count": null,
      "outputs": [
        {
          "output_type": "execute_result",
          "data": {
            "text/plain": [
              "<tf.Tensor: shape=(), dtype=int64, numpy=98>"
            ]
          },
          "metadata": {},
          "execution_count": 83
        }
      ]
    },
    {
      "cell_type": "code",
      "source": [
        "D[27]"
      ],
      "metadata": {
        "colab": {
          "base_uri": "https://localhost:8080/"
        },
        "id": "g-cDaQKNO8Ty",
        "outputId": "cc4cfa08-bdc5-4d5e-fc3f-500ad54f768a"
      },
      "execution_count": null,
      "outputs": [
        {
          "output_type": "execute_result",
          "data": {
            "text/plain": [
              "<tf.Tensor: shape=(), dtype=int64, numpy=1>"
            ]
          },
          "metadata": {},
          "execution_count": 84
        }
      ]
    },
    {
      "cell_type": "markdown",
      "source": [
        "### Squeezing a tensor (removing all single dimensions)"
      ],
      "metadata": {
        "id": "pbOzS790O9ky"
      }
    },
    {
      "cell_type": "code",
      "source": [
        "G = tf.constant(tf.random.normal(shape=[100]), shape=(1,1,1,1,100))\n",
        "G"
      ],
      "metadata": {
        "colab": {
          "base_uri": "https://localhost:8080/"
        },
        "id": "6Ev3L6o8Pxg8",
        "outputId": "a1a762e4-6f0f-4105-c787-2aa67328e5b8"
      },
      "execution_count": null,
      "outputs": [
        {
          "output_type": "execute_result",
          "data": {
            "text/plain": [
              "<tf.Tensor: shape=(1, 1, 1, 1, 100), dtype=float32, numpy=\n",
              "array([[[[[-0.6843161 ,  0.23483357,  0.6483124 , -1.1318921 ,\n",
              "            0.35062066, -0.44171876,  1.3780015 ,  0.03439614,\n",
              "            0.961923  , -0.75962985,  0.46549132,  0.05181826,\n",
              "            0.29722807,  2.0745263 , -0.6539294 , -1.0487171 ,\n",
              "            0.83192664,  0.74256605,  0.8534327 , -1.4534191 ,\n",
              "           -0.1259824 ,  0.01822014,  1.423327  ,  1.4313924 ,\n",
              "            0.23450111, -0.5545286 ,  0.16353711,  0.7549506 ,\n",
              "           -0.0530722 ,  2.5803587 ,  1.8475969 , -1.6993229 ,\n",
              "           -0.21826038, -1.9790648 ,  1.3239477 , -0.4986821 ,\n",
              "           -0.68280977, -0.8570898 ,  1.2765492 ,  0.26209712,\n",
              "           -0.7384397 , -1.5965741 , -1.3743446 , -0.64651686,\n",
              "            1.2102265 , -1.6637774 , -0.44633752, -1.420321  ,\n",
              "            0.8376473 , -0.20097737, -1.7677922 ,  1.4593617 ,\n",
              "            0.8965035 , -1.1544554 , -0.2997026 ,  0.6084455 ,\n",
              "           -0.9476956 ,  0.41863286, -0.80127114, -1.1199018 ,\n",
              "           -0.2491907 ,  0.07086425, -1.4630448 , -0.42115992,\n",
              "           -0.07255735, -2.728572  , -0.41509053, -0.10710648,\n",
              "           -0.28590822,  0.3445636 , -0.9820702 ,  0.8830154 ,\n",
              "            0.4757129 , -0.2925322 , -0.22454266, -1.3089372 ,\n",
              "           -1.3605119 , -2.0260785 ,  0.57186925,  1.0277146 ,\n",
              "           -0.9268622 , -1.514668  ,  0.24973299, -1.0237266 ,\n",
              "           -1.4664037 , -1.979651  ,  0.2728119 ,  0.9606373 ,\n",
              "            0.7175327 , -0.9951453 , -0.5462421 , -0.27039367,\n",
              "            1.0062824 , -0.47189888,  1.4314446 , -1.1079559 ,\n",
              "            1.4786158 ,  0.3385272 , -0.73698467,  0.8777359 ]]]]],\n",
              "      dtype=float32)>"
            ]
          },
          "metadata": {},
          "execution_count": 87
        }
      ]
    },
    {
      "cell_type": "code",
      "source": [
        "G.shape"
      ],
      "metadata": {
        "colab": {
          "base_uri": "https://localhost:8080/"
        },
        "id": "n2FP4IKVP7D-",
        "outputId": "669e5b85-fa04-4e67-9c8f-d76bccfab063"
      },
      "execution_count": null,
      "outputs": [
        {
          "output_type": "execute_result",
          "data": {
            "text/plain": [
              "TensorShape([1, 1, 1, 1, 100])"
            ]
          },
          "metadata": {},
          "execution_count": 88
        }
      ]
    },
    {
      "cell_type": "code",
      "source": [
        "G_squeezed = tf.squeeze(G)\n",
        "G_squeezed"
      ],
      "metadata": {
        "colab": {
          "base_uri": "https://localhost:8080/"
        },
        "id": "t-f4ietgQKRs",
        "outputId": "9a7a412f-76df-4530-e353-75b21e9c2fe5"
      },
      "execution_count": null,
      "outputs": [
        {
          "output_type": "execute_result",
          "data": {
            "text/plain": [
              "<tf.Tensor: shape=(100,), dtype=float32, numpy=\n",
              "array([-0.6843161 ,  0.23483357,  0.6483124 , -1.1318921 ,  0.35062066,\n",
              "       -0.44171876,  1.3780015 ,  0.03439614,  0.961923  , -0.75962985,\n",
              "        0.46549132,  0.05181826,  0.29722807,  2.0745263 , -0.6539294 ,\n",
              "       -1.0487171 ,  0.83192664,  0.74256605,  0.8534327 , -1.4534191 ,\n",
              "       -0.1259824 ,  0.01822014,  1.423327  ,  1.4313924 ,  0.23450111,\n",
              "       -0.5545286 ,  0.16353711,  0.7549506 , -0.0530722 ,  2.5803587 ,\n",
              "        1.8475969 , -1.6993229 , -0.21826038, -1.9790648 ,  1.3239477 ,\n",
              "       -0.4986821 , -0.68280977, -0.8570898 ,  1.2765492 ,  0.26209712,\n",
              "       -0.7384397 , -1.5965741 , -1.3743446 , -0.64651686,  1.2102265 ,\n",
              "       -1.6637774 , -0.44633752, -1.420321  ,  0.8376473 , -0.20097737,\n",
              "       -1.7677922 ,  1.4593617 ,  0.8965035 , -1.1544554 , -0.2997026 ,\n",
              "        0.6084455 , -0.9476956 ,  0.41863286, -0.80127114, -1.1199018 ,\n",
              "       -0.2491907 ,  0.07086425, -1.4630448 , -0.42115992, -0.07255735,\n",
              "       -2.728572  , -0.41509053, -0.10710648, -0.28590822,  0.3445636 ,\n",
              "       -0.9820702 ,  0.8830154 ,  0.4757129 , -0.2925322 , -0.22454266,\n",
              "       -1.3089372 , -1.3605119 , -2.0260785 ,  0.57186925,  1.0277146 ,\n",
              "       -0.9268622 , -1.514668  ,  0.24973299, -1.0237266 , -1.4664037 ,\n",
              "       -1.979651  ,  0.2728119 ,  0.9606373 ,  0.7175327 , -0.9951453 ,\n",
              "       -0.5462421 , -0.27039367,  1.0062824 , -0.47189888,  1.4314446 ,\n",
              "       -1.1079559 ,  1.4786158 ,  0.3385272 , -0.73698467,  0.8777359 ],\n",
              "      dtype=float32)>"
            ]
          },
          "metadata": {},
          "execution_count": 89
        }
      ]
    },
    {
      "cell_type": "markdown",
      "source": [
        "### One-hot encoding tensors"
      ],
      "metadata": {
        "id": "hg5tG8U_QNqC"
      }
    },
    {
      "cell_type": "code",
      "source": [
        "# Create a list of indices\n",
        "some_list = [0,1,2,3] \n",
        "\n",
        "# One-hot encode our list of indices\n",
        "tf.one_hot(some_list, len(some_list)-1)"
      ],
      "metadata": {
        "colab": {
          "base_uri": "https://localhost:8080/"
        },
        "id": "vNWXvnQsQUJL",
        "outputId": "d5b77921-d8a1-457c-d17e-3adc0cc60b36"
      },
      "execution_count": null,
      "outputs": [
        {
          "output_type": "execute_result",
          "data": {
            "text/plain": [
              "<tf.Tensor: shape=(4, 3), dtype=float32, numpy=\n",
              "array([[1., 0., 0.],\n",
              "       [0., 1., 0.],\n",
              "       [0., 0., 1.],\n",
              "       [0., 0., 0.]], dtype=float32)>"
            ]
          },
          "metadata": {},
          "execution_count": 95
        }
      ]
    },
    {
      "cell_type": "markdown",
      "source": [
        "### More maths with tensors"
      ],
      "metadata": {
        "id": "YR3ltAQQQ1uO"
      }
    },
    {
      "cell_type": "code",
      "source": [
        "H = tf.constant([range(1,50),range(1,50)])\n",
        "H"
      ],
      "metadata": {
        "colab": {
          "base_uri": "https://localhost:8080/"
        },
        "id": "KXkSZB4hSlPk",
        "outputId": "3548966f-2aa2-4e89-9129-c32df602319a"
      },
      "execution_count": null,
      "outputs": [
        {
          "output_type": "execute_result",
          "data": {
            "text/plain": [
              "<tf.Tensor: shape=(2, 49), dtype=int32, numpy=\n",
              "array([[ 1,  2,  3,  4,  5,  6,  7,  8,  9, 10, 11, 12, 13, 14, 15, 16,\n",
              "        17, 18, 19, 20, 21, 22, 23, 24, 25, 26, 27, 28, 29, 30, 31, 32,\n",
              "        33, 34, 35, 36, 37, 38, 39, 40, 41, 42, 43, 44, 45, 46, 47, 48,\n",
              "        49],\n",
              "       [ 1,  2,  3,  4,  5,  6,  7,  8,  9, 10, 11, 12, 13, 14, 15, 16,\n",
              "        17, 18, 19, 20, 21, 22, 23, 24, 25, 26, 27, 28, 29, 30, 31, 32,\n",
              "        33, 34, 35, 36, 37, 38, 39, 40, 41, 42, 43, 44, 45, 46, 47, 48,\n",
              "        49]], dtype=int32)>"
            ]
          },
          "metadata": {},
          "execution_count": 100
        }
      ]
    },
    {
      "cell_type": "code",
      "source": [
        "tf.square(H)"
      ],
      "metadata": {
        "colab": {
          "base_uri": "https://localhost:8080/"
        },
        "id": "DtnNBqVTSrA8",
        "outputId": "593d67be-2aa7-4f2f-a4a9-c1cf801dc72a"
      },
      "execution_count": null,
      "outputs": [
        {
          "output_type": "execute_result",
          "data": {
            "text/plain": [
              "<tf.Tensor: shape=(2, 49), dtype=int32, numpy=\n",
              "array([[   1,    4,    9,   16,   25,   36,   49,   64,   81,  100,  121,\n",
              "         144,  169,  196,  225,  256,  289,  324,  361,  400,  441,  484,\n",
              "         529,  576,  625,  676,  729,  784,  841,  900,  961, 1024, 1089,\n",
              "        1156, 1225, 1296, 1369, 1444, 1521, 1600, 1681, 1764, 1849, 1936,\n",
              "        2025, 2116, 2209, 2304, 2401],\n",
              "       [   1,    4,    9,   16,   25,   36,   49,   64,   81,  100,  121,\n",
              "         144,  169,  196,  225,  256,  289,  324,  361,  400,  441,  484,\n",
              "         529,  576,  625,  676,  729,  784,  841,  900,  961, 1024, 1089,\n",
              "        1156, 1225, 1296, 1369, 1444, 1521, 1600, 1681, 1764, 1849, 1936,\n",
              "        2025, 2116, 2209, 2304, 2401]], dtype=int32)>"
            ]
          },
          "metadata": {},
          "execution_count": 101
        }
      ]
    },
    {
      "cell_type": "code",
      "source": [
        "H = tf.cast(H, tf.float32)"
      ],
      "metadata": {
        "id": "WKaX2wauS5wB"
      },
      "execution_count": null,
      "outputs": []
    },
    {
      "cell_type": "code",
      "source": [
        "tf.sqrt(H)"
      ],
      "metadata": {
        "colab": {
          "base_uri": "https://localhost:8080/"
        },
        "id": "y8m4LJbpS-wU",
        "outputId": "6cb94805-4be3-4633-8319-2e70bf462122"
      },
      "execution_count": null,
      "outputs": [
        {
          "output_type": "execute_result",
          "data": {
            "text/plain": [
              "<tf.Tensor: shape=(2, 49), dtype=float32, numpy=\n",
              "array([[0.99999994, 1.4142134 , 1.7320508 , 1.9999999 , 2.236068  ,\n",
              "        2.4494896 , 2.6457512 , 2.8284268 , 2.9999998 , 3.1622777 ,\n",
              "        3.3166244 , 3.4641016 , 3.6055508 , 3.7416573 , 3.8729832 ,\n",
              "        3.9999998 , 4.1231055 , 4.2426405 , 4.3588986 , 4.472136  ,\n",
              "        4.5825753 , 4.6904154 , 4.795831  , 4.898979  , 5.        ,\n",
              "        5.0990195 , 5.196152  , 5.2915025 , 5.3851647 , 5.477226  ,\n",
              "        5.5677643 , 5.6568537 , 5.744562  , 5.830951  , 5.9160795 ,\n",
              "        5.9999995 , 6.0827622 , 6.164414  , 6.244997  , 6.3245554 ,\n",
              "        6.4031243 , 6.4807405 , 6.557438  , 6.633249  , 6.7082043 ,\n",
              "        6.78233   , 6.8556547 , 6.928203  , 6.9999995 ],\n",
              "       [0.99999994, 1.4142134 , 1.7320508 , 1.9999999 , 2.236068  ,\n",
              "        2.4494896 , 2.6457512 , 2.8284268 , 2.9999998 , 3.1622777 ,\n",
              "        3.3166244 , 3.4641016 , 3.6055508 , 3.7416573 , 3.8729832 ,\n",
              "        3.9999998 , 4.1231055 , 4.2426405 , 4.3588986 , 4.472136  ,\n",
              "        4.5825753 , 4.6904154 , 4.795831  , 4.898979  , 5.        ,\n",
              "        5.0990195 , 5.196152  , 5.2915025 , 5.3851647 , 5.477226  ,\n",
              "        5.5677643 , 5.6568537 , 5.744562  , 5.830951  , 5.9160795 ,\n",
              "        5.9999995 , 6.0827622 , 6.164414  , 6.244997  , 6.3245554 ,\n",
              "        6.4031243 , 6.4807405 , 6.557438  , 6.633249  , 6.7082043 ,\n",
              "        6.78233   , 6.8556547 , 6.928203  , 7.        ]], dtype=float32)>"
            ]
          },
          "metadata": {},
          "execution_count": 103
        }
      ]
    },
    {
      "cell_type": "code",
      "source": [
        "tf.math.log(H)"
      ],
      "metadata": {
        "colab": {
          "base_uri": "https://localhost:8080/"
        },
        "id": "ynVWG6YHS_3p",
        "outputId": "058ed83f-0623-4f8e-ad77-b196a1bc8a7a"
      },
      "execution_count": null,
      "outputs": [
        {
          "output_type": "execute_result",
          "data": {
            "text/plain": [
              "<tf.Tensor: shape=(2, 49), dtype=float32, numpy=\n",
              "array([[0.       , 0.6931472, 1.0986123, 1.3862944, 1.609438 , 1.7917595,\n",
              "        1.9459102, 2.0794415, 2.1972246, 2.3025851, 2.3978953, 2.4849067,\n",
              "        2.5649493, 2.6390574, 2.7080503, 2.7725887, 2.8332133, 2.8903718,\n",
              "        2.944439 , 2.9957323, 3.0445225, 3.0910425, 3.1354942, 3.1780539,\n",
              "        3.218876 , 3.2580965, 3.295837 , 3.3322046, 3.3672957, 3.4011974,\n",
              "        3.4339871, 3.465736 , 3.4965076, 3.5263605, 3.5553482, 3.583519 ,\n",
              "        3.610918 , 3.637586 , 3.6635616, 3.6888795, 3.713572 , 3.7376697,\n",
              "        3.7612002, 3.7841897, 3.8066626, 3.8286414, 3.8501477, 3.871201 ,\n",
              "        3.8918204],\n",
              "       [0.       , 0.6931472, 1.0986123, 1.3862944, 1.609438 , 1.7917595,\n",
              "        1.9459102, 2.0794415, 2.1972246, 2.3025851, 2.3978953, 2.4849067,\n",
              "        2.5649493, 2.6390574, 2.7080503, 2.7725887, 2.8332133, 2.8903718,\n",
              "        2.944439 , 2.9957323, 3.0445225, 3.0910425, 3.1354942, 3.1780539,\n",
              "        3.218876 , 3.2580965, 3.295837 , 3.3322046, 3.3672957, 3.4011974,\n",
              "        3.4339871, 3.465736 , 3.4965076, 3.5263605, 3.5553482, 3.583519 ,\n",
              "        3.610918 , 3.637586 , 3.6635616, 3.6888795, 3.713572 , 3.7376697,\n",
              "        3.7612002, 3.7841897, 3.8066626, 3.8286414, 3.8501477, 3.871201 ,\n",
              "        3.8918202]], dtype=float32)>"
            ]
          },
          "metadata": {},
          "execution_count": 107
        }
      ]
    },
    {
      "cell_type": "markdown",
      "source": [
        "### Tensors and NumPy"
      ],
      "metadata": {
        "id": "c91r2479TE-F"
      }
    },
    {
      "cell_type": "code",
      "source": [
        "J = tf.constant(np.array([3., 1., 7.]))\n",
        "J"
      ],
      "metadata": {
        "colab": {
          "base_uri": "https://localhost:8080/"
        },
        "id": "i-cpxKQnTUEn",
        "outputId": "4a253e91-1b79-46ef-8408-df8c2a1724ee"
      },
      "execution_count": null,
      "outputs": [
        {
          "output_type": "execute_result",
          "data": {
            "text/plain": [
              "<tf.Tensor: shape=(3,), dtype=float64, numpy=array([3., 1., 7.])>"
            ]
          },
          "metadata": {},
          "execution_count": 110
        }
      ]
    },
    {
      "cell_type": "code",
      "source": [
        "np.array(J)"
      ],
      "metadata": {
        "colab": {
          "base_uri": "https://localhost:8080/"
        },
        "id": "Mk_CtivnTdVb",
        "outputId": "e9409acd-6bc3-4839-d6c7-402ea12106f0"
      },
      "execution_count": null,
      "outputs": [
        {
          "output_type": "execute_result",
          "data": {
            "text/plain": [
              "array([3., 1., 7.])"
            ]
          },
          "metadata": {},
          "execution_count": 111
        }
      ]
    },
    {
      "cell_type": "code",
      "source": [
        "J.numpy()"
      ],
      "metadata": {
        "colab": {
          "base_uri": "https://localhost:8080/"
        },
        "id": "k2NXr-gtTig_",
        "outputId": "5ead9cc7-0d50-4f91-da52-0599fb2fe102"
      },
      "execution_count": null,
      "outputs": [
        {
          "output_type": "execute_result",
          "data": {
            "text/plain": [
              "array([3., 1., 7.])"
            ]
          },
          "metadata": {},
          "execution_count": 112
        }
      ]
    },
    {
      "cell_type": "code",
      "source": [
        "# The default types are slightly different\n",
        "numpy_J = tf.constant(np.array([3.,1.,7.]))\n",
        "tensor_J = tf.constant([3.,1.,7.])\n",
        "# Check the datatypes\n",
        "numpy_J.dtype, tensor_J.dtype"
      ],
      "metadata": {
        "colab": {
          "base_uri": "https://localhost:8080/"
        },
        "id": "9UDRVMYqTmB7",
        "outputId": "4b954af9-246e-4d1b-bca6-f37a21916702"
      },
      "execution_count": null,
      "outputs": [
        {
          "output_type": "execute_result",
          "data": {
            "text/plain": [
              "(tf.float64, tf.float32)"
            ]
          },
          "metadata": {},
          "execution_count": 113
        }
      ]
    },
    {
      "cell_type": "markdown",
      "source": [
        "### Accessing GPUs"
      ],
      "metadata": {
        "id": "6v-SA9ZZUPQG"
      }
    },
    {
      "cell_type": "code",
      "source": [
        "import tensorflow as tf\n",
        "tf.config.list_physical_devices()"
      ],
      "metadata": {
        "colab": {
          "base_uri": "https://localhost:8080/"
        },
        "id": "9E9gjretYEra",
        "outputId": "89521cb5-7cb1-4826-950d-09de514021e1"
      },
      "execution_count": null,
      "outputs": [
        {
          "output_type": "execute_result",
          "data": {
            "text/plain": [
              "[PhysicalDevice(name='/physical_device:CPU:0', device_type='CPU'),\n",
              " PhysicalDevice(name='/physical_device:GPU:0', device_type='GPU')]"
            ]
          },
          "metadata": {},
          "execution_count": 2
        }
      ]
    },
    {
      "cell_type": "code",
      "source": [
        "!nvidia-smi"
      ],
      "metadata": {
        "colab": {
          "base_uri": "https://localhost:8080/"
        },
        "id": "JgxCP05MYNjv",
        "outputId": "487a6e0f-c9fb-455d-d78c-96e0de43f930"
      },
      "execution_count": null,
      "outputs": [
        {
          "output_type": "stream",
          "name": "stdout",
          "text": [
            "Wed Apr  6 19:38:53 2022       \n",
            "+-----------------------------------------------------------------------------+\n",
            "| NVIDIA-SMI 460.32.03    Driver Version: 460.32.03    CUDA Version: 11.2     |\n",
            "|-------------------------------+----------------------+----------------------+\n",
            "| GPU  Name        Persistence-M| Bus-Id        Disp.A | Volatile Uncorr. ECC |\n",
            "| Fan  Temp  Perf  Pwr:Usage/Cap|         Memory-Usage | GPU-Util  Compute M. |\n",
            "|                               |                      |               MIG M. |\n",
            "|===============================+======================+======================|\n",
            "|   0  Tesla K80           Off  | 00000000:00:04.0 Off |                    0 |\n",
            "| N/A   56C    P8    30W / 149W |      3MiB / 11441MiB |      0%      Default |\n",
            "|                               |                      |                  N/A |\n",
            "+-------------------------------+----------------------+----------------------+\n",
            "                                                                               \n",
            "+-----------------------------------------------------------------------------+\n",
            "| Processes:                                                                  |\n",
            "|  GPU   GI   CI        PID   Type   Process name                  GPU Memory |\n",
            "|        ID   ID                                                   Usage      |\n",
            "|=============================================================================|\n",
            "|  No running processes found                                                 |\n",
            "+-----------------------------------------------------------------------------+\n"
          ]
        }
      ]
    }
  ]
}